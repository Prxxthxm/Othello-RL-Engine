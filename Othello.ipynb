{
 "cells": [
  {
   "cell_type": "markdown",
   "id": "24fa992b",
   "metadata": {},
   "source": [
    "# Othello"
   ]
  },
  {
   "cell_type": "code",
   "execution_count": 1,
   "id": "7130ceb6",
   "metadata": {},
   "outputs": [],
   "source": [
    "import tkinter as tk\n",
    "\n",
    "class Othello:\n",
    "    def __init__(self):\n",
    "        self.board = [[0 for _ in range(8)] for _ in range(8)] # Let 1 be 'B', -1 be 'W' and 0 be empty\n",
    "        self.board[3][3] = self.board[4][4] = -1\n",
    "        self.board[3][4] = self.board[4][3] = 1\n",
    "        self.current_turn = 1\n",
    "        self.legal_moves = []\n",
    "        \n",
    "    def is_valid_move(self, row, col):\n",
    "        if self.board[row][col] != 0 or not (0 <= row < 8 and 0 <= col < 8): return False\n",
    "\n",
    "        directions = [(-1, -1), (-1, 0), (-1, 1), (0, -1), (0, 1), (1, -1), (1, 0), (1, 1)]        \n",
    "        for dy, dx in directions:\n",
    "            nrow, ncol = row + dy, col + dx\n",
    "            valid = False\n",
    "            \n",
    "            while 0 <= nrow < 8 and 0 <= ncol < 8:\n",
    "                if self.board[nrow][ncol] == -self.current_turn: valid = True\n",
    "                elif self.board[nrow][ncol] == self.current_turn:\n",
    "                    if valid: return True\n",
    "                    else: break\n",
    "                else: break                \n",
    "                nrow += dy\n",
    "                ncol += dx        \n",
    "        return False\n",
    "    \n",
    "    def get_legal_moves(self):\n",
    "        self.legal_moves = []\n",
    "        for row in range(8):\n",
    "            for col in range(8):\n",
    "                if self.is_valid_move(row, col): self.legal_moves.append((row, col))\n",
    "        return self.legal_moves  \n",
    "\n",
    "    def display_board(self):\n",
    "        root = tk.Tk()\n",
    "        root.title(\"Othello\")\n",
    "        label = tk.Label(root, text=\"Current Turn: \" + (\"Black\" if self.current_turn == 1 else \"White\"), font=(\"Arial\", 16))\n",
    "        label.pack()\n",
    "        canvas = tk.Canvas(root, width=480, height=480)\n",
    "        canvas.pack()\n",
    "        legal_moves = self.get_legal_moves()\n",
    "\n",
    "        for i in range(8):\n",
    "            for j in range(8):\n",
    "                x, y = j*60, i*60\n",
    "                canvas.create_rectangle(x, y, x + 60, y + 60, fill=\"green\")\n",
    "                if self.board[i][j] == 1: canvas.create_oval(x + 5, y + 5, x + 55, y + 55, fill=\"black\", outline=\"\")\n",
    "                elif self.board[i][j] == -1: canvas.create_oval(x + 5, y + 5, x + 55, y + 55, fill=\"white\", outline=\"\")\n",
    "                if (i, j) in legal_moves: canvas.create_oval(x + 20, y + 20, x + 40, y + 40, fill=\"yellow\", outline=\"\")\n",
    "        \n",
    "        root.mainloop()"
   ]
  },
  {
   "cell_type": "code",
   "execution_count": 2,
   "id": "83c7c4e9",
   "metadata": {},
   "outputs": [],
   "source": [
    "new_game = Othello()\n",
    "new_game.display_board()"
   ]
  }
 ],
 "metadata": {
  "kernelspec": {
   "display_name": "Python 3",
   "language": "python",
   "name": "python3"
  },
  "language_info": {
   "codemirror_mode": {
    "name": "ipython",
    "version": 3
   },
   "file_extension": ".py",
   "mimetype": "text/x-python",
   "name": "python",
   "nbconvert_exporter": "python",
   "pygments_lexer": "ipython3",
   "version": "3.12.4"
  }
 },
 "nbformat": 4,
 "nbformat_minor": 5
}
